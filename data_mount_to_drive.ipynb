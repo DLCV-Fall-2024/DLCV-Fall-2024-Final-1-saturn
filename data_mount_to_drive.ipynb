{
  "cells": [
    {
      "cell_type": "code",
      "execution_count": 5,
      "metadata": {
        "id": "zwFnJsE6vjf8",
        "colab": {
          "base_uri": "https://localhost:8080/"
        },
        "outputId": "8ed2b4a0-6bb8-4c3b-d111-4ba5326a6051"
      },
      "outputs": [
        {
          "output_type": "stream",
          "name": "stdout",
          "text": [
            "Downloading...\n",
            "From (original): https://drive.google.com/uc?id=1LKvmbnSA3kJ2JWNcZ-S4qdZl6NX9xzyz\n",
            "From (redirected): https://drive.google.com/uc?id=1LKvmbnSA3kJ2JWNcZ-S4qdZl6NX9xzyz&confirm=t&uuid=9d4b28e3-148d-4e64-9058-576bf189a6d9\n",
            "To: /content/train.zip\n",
            "100% 29.8G/29.8G [13:23<00:00, 37.1MB/s]\n"
          ]
        }
      ],
      "source": [
        "import gdown\n",
        "!gdown \"1LKvmbnSA3kJ2JWNcZ-S4qdZl6NX9xzyz\""
      ]
    },
    {
      "cell_type": "code",
      "source": [
        "!unzip data.zip\n"
      ],
      "metadata": {
        "id": "LwFAEhx0ay0L"
      },
      "execution_count": null,
      "outputs": []
    },
    {
      "cell_type": "code",
      "source": [
        "from google.colab import drive\n",
        "drive.mount('/content/drive')"
      ],
      "metadata": {
        "colab": {
          "base_uri": "https://localhost:8080/"
        },
        "id": "HYOZRYgnbClT",
        "outputId": "7c21c394-bbf8-48a7-d4b5-e88377d54ea5"
      },
      "execution_count": 10,
      "outputs": [
        {
          "output_type": "stream",
          "name": "stdout",
          "text": [
            "Drive already mounted at /content/drive; to attempt to forcibly remount, call drive.mount(\"/content/drive\", force_remount=True).\n"
          ]
        }
      ]
    },
    {
      "cell_type": "code",
      "source": [
        "!rm /content/data.zip"
      ],
      "metadata": {
        "id": "Xm_fdswhdepJ"
      },
      "execution_count": 9,
      "outputs": []
    },
    {
      "cell_type": "code",
      "source": [
        "!cp -r /content/content/dataset /content/drive/MyDrive"
      ],
      "metadata": {
        "id": "tRHq19AmcplN"
      },
      "execution_count": 11,
      "outputs": []
    }
  ],
  "metadata": {
    "colab": {
      "name": "歡迎使用 Colaboratory",
      "provenance": []
    },
    "kernelspec": {
      "display_name": "Python 3",
      "name": "python3"
    }
  },
  "nbformat": 4,
  "nbformat_minor": 0
}